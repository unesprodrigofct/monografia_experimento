{
 "cells": [
  {
   "cell_type": "code",
   "execution_count": 2,
   "metadata": {
    "colab": {},
    "colab_type": "code",
    "id": "jbGOWbSA1Efu"
   },
   "outputs": [
    {
     "name": "stdout",
     "output_type": "stream",
     "text": [
      "Collecting scikit-surprise\n",
      "  Downloading scikit-surprise-1.1.1.tar.gz (11.8 MB)\n",
      "\u001b[K     |████████████████████████████████| 11.8 MB 12.6 MB/s eta 0:00:01\n",
      "\u001b[?25hRequirement already satisfied: joblib>=0.11 in /anaconda/envs/azureml_py36/lib/python3.6/site-packages (from scikit-surprise) (0.14.1)\n",
      "Requirement already satisfied: numpy>=1.11.2 in /anaconda/envs/azureml_py36/lib/python3.6/site-packages (from scikit-surprise) (1.18.5)\n",
      "Requirement already satisfied: scipy>=1.0.0 in /anaconda/envs/azureml_py36/lib/python3.6/site-packages (from scikit-surprise) (1.4.1)\n",
      "Requirement already satisfied: six>=1.10.0 in /anaconda/envs/azureml_py36/lib/python3.6/site-packages (from scikit-surprise) (1.15.0)\n",
      "Building wheels for collected packages: scikit-surprise\n",
      "  Building wheel for scikit-surprise (setup.py) ... \u001b[?25ldone\n",
      "\u001b[?25h  Created wheel for scikit-surprise: filename=scikit_surprise-1.1.1-cp36-cp36m-linux_x86_64.whl size=1671632 sha256=b137cbd96aed602f6510114cd4a95bddcab3ed15eb8b693cc72c61a89952c8c7\n",
      "  Stored in directory: /home/azureuser/.cache/pip/wheels/de/9a/41/6a57bf37eb7b50de7f8c7ca9d7053bebe0ea7c7c9bae9fa293\n",
      "Successfully built scikit-surprise\n",
      "Installing collected packages: scikit-surprise\n",
      "Successfully installed scikit-surprise-1.1.1\n",
      "Note: you may need to restart the kernel to use updated packages.\n"
     ]
    }
   ],
   "source": [
    "pip install scikit-surprise"
   ]
  },
  {
   "cell_type": "code",
   "execution_count": 2,
   "metadata": {},
   "outputs": [],
   "source": [
    "azure = True\n",
    "g_colab = False"
   ]
  },
  {
   "cell_type": "code",
   "execution_count": 3,
   "metadata": {
    "colab": {},
    "colab_type": "code",
    "id": "9wdbmustcKHG"
   },
   "outputs": [],
   "source": [
    "import pandas as pd\n",
    "import numpy as np"
   ]
  },
  {
   "cell_type": "code",
   "execution_count": 4,
   "metadata": {
    "colab": {},
    "colab_type": "code",
    "id": "TJqVmpibchbO"
   },
   "outputs": [],
   "source": [
    "if azure:\n",
    "    path_bcd =\"./dataset FC/RatingBook/ratings.csv\"\n",
    "    path_ml  = \"./dataset FC/ML/ml-100k/rating_ml.csv\"\n",
    "    path_rdc = \"./dataset FC/RDC/rating_final.csv\"\n",
    "    \n",
    "    \n",
    "if g_colab:\n",
    "    from google.colab import drive \n",
    "    drive.mount('/content/gdrive')\n",
    "    path_bcd =\"/content/gdrive/My Drive/Monografia/dataset FC/RatingBook/ratings.csv\"\n",
    "    path_ml = \"/content/gdrive/My Drive/Monografia/dataset FC/ML/ml-100k/rating_ml.csv\"\n",
    "    path_rdc = \"/content/gdrive/My Drive/Monografia/dataset FC/RDC/rating_final.csv\""
   ]
  },
  {
   "cell_type": "code",
   "execution_count": 5,
   "metadata": {
    "colab": {},
    "colab_type": "code",
    "id": "2YNy_GtfchgD"
   },
   "outputs": [
    {
     "name": "stdout",
     "output_type": "stream",
     "text": [
      "Escala Minima Rating: 1\n",
      "Escala maxima Rating: 5\n",
      "Numero de avaliaçoes 981756\n",
      "Numero de Usuários 53424\n",
      "Numero de itens 10000\n"
     ]
    },
    {
     "data": {
      "text/html": [
       "<div>\n",
       "<style scoped>\n",
       "    .dataframe tbody tr th:only-of-type {\n",
       "        vertical-align: middle;\n",
       "    }\n",
       "\n",
       "    .dataframe tbody tr th {\n",
       "        vertical-align: top;\n",
       "    }\n",
       "\n",
       "    .dataframe thead th {\n",
       "        text-align: right;\n",
       "    }\n",
       "</style>\n",
       "<table border=\"1\" class=\"dataframe\">\n",
       "  <thead>\n",
       "    <tr style=\"text-align: right;\">\n",
       "      <th></th>\n",
       "      <th>itemid</th>\n",
       "      <th>userid</th>\n",
       "      <th>rating</th>\n",
       "    </tr>\n",
       "  </thead>\n",
       "  <tbody>\n",
       "    <tr>\n",
       "      <th>0</th>\n",
       "      <td>1</td>\n",
       "      <td>314</td>\n",
       "      <td>5</td>\n",
       "    </tr>\n",
       "    <tr>\n",
       "      <th>1</th>\n",
       "      <td>1</td>\n",
       "      <td>439</td>\n",
       "      <td>3</td>\n",
       "    </tr>\n",
       "    <tr>\n",
       "      <th>2</th>\n",
       "      <td>1</td>\n",
       "      <td>588</td>\n",
       "      <td>5</td>\n",
       "    </tr>\n",
       "    <tr>\n",
       "      <th>3</th>\n",
       "      <td>1</td>\n",
       "      <td>1169</td>\n",
       "      <td>4</td>\n",
       "    </tr>\n",
       "    <tr>\n",
       "      <th>4</th>\n",
       "      <td>1</td>\n",
       "      <td>1185</td>\n",
       "      <td>4</td>\n",
       "    </tr>\n",
       "  </tbody>\n",
       "</table>\n",
       "</div>"
      ],
      "text/plain": [
       "   itemid  userid  rating\n",
       "0       1     314       5\n",
       "1       1     439       3\n",
       "2       1     588       5\n",
       "3       1    1169       4\n",
       "4       1    1185       4"
      ]
     },
     "execution_count": 5,
     "metadata": {},
     "output_type": "execute_result"
    }
   ],
   "source": [
    "df_book=pd.read_csv(path_bcd)\n",
    "df_book = df_book.rename(columns = {\"book_id\":\"itemid\",\"user_id\":\"userid\"})\n",
    "\n",
    "qr = df_book[[\"userid\",\"rating\"]].groupby(\"userid\").count() \n",
    "\n",
    "print('Escala Minima Rating:',np.min(df_book[\"rating\"]))\n",
    "print('Escala maxima Rating:',np.max(df_book[\"rating\"]))\n",
    "print(\"Numero de avaliaçoes\",len(df_book))\n",
    "print(\"Numero de Usuários\",len(df_book.userid.unique()))\n",
    "print(\"Numero de itens\",len(df_book.itemid.unique()))\n",
    "df_book.head()"
   ]
  },
  {
   "cell_type": "code",
   "execution_count": 6,
   "metadata": {
    "colab": {},
    "colab_type": "code",
    "id": "W00uwvknchis"
   },
   "outputs": [
    {
     "name": "stdout",
     "output_type": "stream",
     "text": [
      "Numero de avaliaçoes 1161\n",
      "Numero de Usuários 138\n",
      "Numero de itens 130\n",
      "Numero de avaliaçoes 1161\n",
      "Escala Minima Rating: 1\n",
      "Escala maxima Rating: 3\n"
     ]
    },
    {
     "data": {
      "text/html": [
       "<div>\n",
       "<style scoped>\n",
       "    .dataframe tbody tr th:only-of-type {\n",
       "        vertical-align: middle;\n",
       "    }\n",
       "\n",
       "    .dataframe tbody tr th {\n",
       "        vertical-align: top;\n",
       "    }\n",
       "\n",
       "    .dataframe thead th {\n",
       "        text-align: right;\n",
       "    }\n",
       "</style>\n",
       "<table border=\"1\" class=\"dataframe\">\n",
       "  <thead>\n",
       "    <tr style=\"text-align: right;\">\n",
       "      <th></th>\n",
       "      <th>userid</th>\n",
       "      <th>itemid</th>\n",
       "      <th>rating</th>\n",
       "    </tr>\n",
       "  </thead>\n",
       "  <tbody>\n",
       "    <tr>\n",
       "      <th>0</th>\n",
       "      <td>1077</td>\n",
       "      <td>135085</td>\n",
       "      <td>3</td>\n",
       "    </tr>\n",
       "    <tr>\n",
       "      <th>1</th>\n",
       "      <td>1077</td>\n",
       "      <td>135038</td>\n",
       "      <td>3</td>\n",
       "    </tr>\n",
       "    <tr>\n",
       "      <th>2</th>\n",
       "      <td>1077</td>\n",
       "      <td>132825</td>\n",
       "      <td>3</td>\n",
       "    </tr>\n",
       "    <tr>\n",
       "      <th>3</th>\n",
       "      <td>1077</td>\n",
       "      <td>135060</td>\n",
       "      <td>2</td>\n",
       "    </tr>\n",
       "    <tr>\n",
       "      <th>4</th>\n",
       "      <td>1068</td>\n",
       "      <td>135104</td>\n",
       "      <td>2</td>\n",
       "    </tr>\n",
       "  </tbody>\n",
       "</table>\n",
       "</div>"
      ],
      "text/plain": [
       "   userid  itemid  rating\n",
       "0    1077  135085       3\n",
       "1    1077  135038       3\n",
       "2    1077  132825       3\n",
       "3    1077  135060       2\n",
       "4    1068  135104       2"
      ]
     },
     "execution_count": 6,
     "metadata": {},
     "output_type": "execute_result"
    }
   ],
   "source": [
    "df_rdc=pd.read_csv(path_rdc)\n",
    "print(\"Numero de avaliaçoes\",len(df_rdc))\n",
    "print(\"Numero de Usuários\",len(df_rdc.userID.unique()))\n",
    "print(\"Numero de itens\",len(df_rdc.placeID.unique()))\n",
    "df_rdc['userID'] = pd.to_numeric(df_rdc['userID'].map(lambda x: x.replace('U','')))\n",
    "df_rdc = df_rdc.rename(columns = {\"userID\":\"userid\",\"placeID\":\"itemid\"})\n",
    "df_rdc = df_rdc.drop(columns = {\"food_rating\",\"service_rating\"})\n",
    "\n",
    "#trocando a escala de 0 a 2 para 1 a 3.\n",
    "df_rdc[\"rating\"] = df_rdc[\"rating\"] + 1\n",
    "\n",
    "print(\"Numero de avaliaçoes\",len(df_rdc))\n",
    "print('Escala Minima Rating:',np.min(df_rdc[\"rating\"]))\n",
    "print('Escala maxima Rating:',np.max(df_rdc[\"rating\"]))\n",
    "df_rdc.head()"
   ]
  },
  {
   "cell_type": "code",
   "execution_count": 7,
   "metadata": {},
   "outputs": [
    {
     "data": {
      "text/html": [
       "<div>\n",
       "<style scoped>\n",
       "    .dataframe tbody tr th:only-of-type {\n",
       "        vertical-align: middle;\n",
       "    }\n",
       "\n",
       "    .dataframe tbody tr th {\n",
       "        vertical-align: top;\n",
       "    }\n",
       "\n",
       "    .dataframe thead th {\n",
       "        text-align: right;\n",
       "    }\n",
       "</style>\n",
       "<table border=\"1\" class=\"dataframe\">\n",
       "  <thead>\n",
       "    <tr style=\"text-align: right;\">\n",
       "      <th></th>\n",
       "      <th>userid</th>\n",
       "      <th>itemid</th>\n",
       "      <th>rating</th>\n",
       "    </tr>\n",
       "  </thead>\n",
       "  <tbody>\n",
       "    <tr>\n",
       "      <th>0</th>\n",
       "      <td>1077</td>\n",
       "      <td>135085</td>\n",
       "      <td>5.00</td>\n",
       "    </tr>\n",
       "    <tr>\n",
       "      <th>1</th>\n",
       "      <td>1077</td>\n",
       "      <td>135038</td>\n",
       "      <td>5.00</td>\n",
       "    </tr>\n",
       "    <tr>\n",
       "      <th>2</th>\n",
       "      <td>1077</td>\n",
       "      <td>132825</td>\n",
       "      <td>5.00</td>\n",
       "    </tr>\n",
       "    <tr>\n",
       "      <th>3</th>\n",
       "      <td>1077</td>\n",
       "      <td>135060</td>\n",
       "      <td>3.67</td>\n",
       "    </tr>\n",
       "    <tr>\n",
       "      <th>4</th>\n",
       "      <td>1068</td>\n",
       "      <td>135104</td>\n",
       "      <td>3.67</td>\n",
       "    </tr>\n",
       "  </tbody>\n",
       "</table>\n",
       "</div>"
      ],
      "text/plain": [
       "   userid  itemid  rating\n",
       "0    1077  135085    5.00\n",
       "1    1077  135038    5.00\n",
       "2    1077  132825    5.00\n",
       "3    1077  135060    3.67\n",
       "4    1068  135104    3.67"
      ]
     },
     "execution_count": 7,
     "metadata": {},
     "output_type": "execute_result"
    }
   ],
   "source": [
    "#Normalização do Rating entre 1 a 5\n",
    "max_rating = np.max(df_rdc[\"rating\"]) \n",
    "df_rdc[\"rating\"] = (df_rdc[\"rating\"]*4) / max_rating + 1\n",
    "df_rdc[\"rating\"] = df_rdc[\"rating\"].round(2)\n",
    "df_rdc.head()"
   ]
  },
  {
   "cell_type": "code",
   "execution_count": 8,
   "metadata": {
    "colab": {},
    "colab_type": "code",
    "id": "Jkd4rYRx04go"
   },
   "outputs": [
    {
     "name": "stdout",
     "output_type": "stream",
     "text": [
      "Escala Minima Rating: 1\n",
      "Escala maxima Rating: 5\n",
      "Numero de avaliaçoes 100000\n"
     ]
    },
    {
     "data": {
      "text/html": [
       "<div>\n",
       "<style scoped>\n",
       "    .dataframe tbody tr th:only-of-type {\n",
       "        vertical-align: middle;\n",
       "    }\n",
       "\n",
       "    .dataframe tbody tr th {\n",
       "        vertical-align: top;\n",
       "    }\n",
       "\n",
       "    .dataframe thead th {\n",
       "        text-align: right;\n",
       "    }\n",
       "</style>\n",
       "<table border=\"1\" class=\"dataframe\">\n",
       "  <thead>\n",
       "    <tr style=\"text-align: right;\">\n",
       "      <th></th>\n",
       "      <th>userid</th>\n",
       "      <th>itemid</th>\n",
       "      <th>rating</th>\n",
       "      <th>timestamp</th>\n",
       "    </tr>\n",
       "  </thead>\n",
       "  <tbody>\n",
       "    <tr>\n",
       "      <th>0</th>\n",
       "      <td>196</td>\n",
       "      <td>242</td>\n",
       "      <td>3</td>\n",
       "      <td>881250949</td>\n",
       "    </tr>\n",
       "    <tr>\n",
       "      <th>1</th>\n",
       "      <td>186</td>\n",
       "      <td>302</td>\n",
       "      <td>3</td>\n",
       "      <td>891717742</td>\n",
       "    </tr>\n",
       "    <tr>\n",
       "      <th>2</th>\n",
       "      <td>22</td>\n",
       "      <td>377</td>\n",
       "      <td>1</td>\n",
       "      <td>878887116</td>\n",
       "    </tr>\n",
       "    <tr>\n",
       "      <th>3</th>\n",
       "      <td>244</td>\n",
       "      <td>51</td>\n",
       "      <td>2</td>\n",
       "      <td>880606923</td>\n",
       "    </tr>\n",
       "    <tr>\n",
       "      <th>4</th>\n",
       "      <td>166</td>\n",
       "      <td>346</td>\n",
       "      <td>1</td>\n",
       "      <td>886397596</td>\n",
       "    </tr>\n",
       "  </tbody>\n",
       "</table>\n",
       "</div>"
      ],
      "text/plain": [
       "   userid  itemid  rating  timestamp\n",
       "0     196     242       3  881250949\n",
       "1     186     302       3  891717742\n",
       "2      22     377       1  878887116\n",
       "3     244      51       2  880606923\n",
       "4     166     346       1  886397596"
      ]
     },
     "execution_count": 8,
     "metadata": {},
     "output_type": "execute_result"
    }
   ],
   "source": [
    "df_ml=pd.read_csv(path_ml,sep= \";\")\n",
    "print('Escala Minima Rating:',np.min(df_ml[\"rating\"]))\n",
    "print('Escala maxima Rating:',np.max(df_ml[\"rating\"]))\n",
    "print(\"Numero de avaliaçoes\",len(df_ml))\n",
    "df_ml.head()"
   ]
  },
  {
   "cell_type": "code",
   "execution_count": 3,
   "metadata": {
    "colab": {},
    "colab_type": "code",
    "id": "ubrJp58Z1jJA"
   },
   "outputs": [],
   "source": [
    "from surprise import KNNBasic\n",
    "from surprise import Dataset\n",
    "from surprise import get_dataset_dir\n",
    "from surprise.model_selection import train_test_split\n",
    "from surprise import Dataset, Reader, KNNBaseline, accuracy\n",
    "from surprise.model_selection import train_test_split\n",
    "import pandas as pd\n",
    "import numpy  as np\n",
    "import time"
   ]
  },
  {
   "cell_type": "code",
   "execution_count": 8,
   "metadata": {},
   "outputs": [
    {
     "name": "stdout",
     "output_type": "stream",
     "text": [
      "4.399999999993298e-05 seconds\n"
     ]
    }
   ],
   "source": [
    "\n",
    "import time\n",
    "\n",
    "start_time = time.clock()\n",
    "\n",
    "print (time.clock() - start_time, \"seconds\")"
   ]
  },
  {
   "cell_type": "code",
   "execution_count": 10,
   "metadata": {
    "colab": {},
    "colab_type": "code",
    "id": "xLn3-aDQ1jLf"
   },
   "outputs": [
    {
     "name": "stdout",
     "output_type": "stream",
     "text": [
      "Computing the pearson similarity matrix...\n",
      "Done computing similarity matrix.\n",
      "Computing the pearson similarity matrix...\n",
      "Done computing similarity matrix.\n",
      "Computing the pearson similarity matrix...\n",
      "Done computing similarity matrix.\n"
     ]
    },
    {
     "name": "stderr",
     "output_type": "stream",
     "text": [
      "/anaconda/envs/azureml_py36/lib/python3.6/site-packages/surprise/prediction_algorithms/algo_base.py:249: RuntimeWarning: invalid value encountered in sqrt\n",
      "  sim = construction_func[name](*args)\n"
     ]
    },
    {
     "data": {
      "text/plain": [
       "<surprise.prediction_algorithms.knns.KNNBasic at 0x7f226513ecf8>"
      ]
     },
     "execution_count": 10,
     "metadata": {},
     "output_type": "execute_result"
    }
   ],
   "source": [
    "#Gerando as Sementes para gerar as mesmas amostras\n",
    "\n",
    "\n",
    "# Ler os dados sobre rating \n",
    "reader_ml  = Reader(rating_scale=(1, 5))\n",
    "reader_bcd  = Reader(rating_scale=(1, 5))\n",
    "reader_rdc  = Reader(rating_scale=(1, 5))\n",
    "\n",
    "data_ml = Dataset.load_from_df(df_ml[['userid','itemid','rating']], reader_ml)\n",
    "data_book = Dataset.load_from_df(df_book[['userid','itemid','rating']], reader_bcd)\n",
    "data_rdc = Dataset.load_from_df(df_rdc[['userid','itemid','rating']], reader_rdc)\n",
    " \n",
    "# Treinamento com 70% da massa de dados e deixar 30% para fazer a validação\n",
    "trainset_ml,  testset_ml  = train_test_split(data_ml,   test_size=.30,random_state=42)\n",
    "trainset_bcd, testset_bcd = train_test_split(data_book, test_size=.30,random_state=42)\n",
    "trainset_rdc, testset_rdc = train_test_split(data_rdc,  test_size=.30,random_state=42)\n",
    "\n",
    "\n",
    "my_sim_option_pearson = {'name':'pearson', 'user_based':True}\n",
    "\n",
    "\n",
    "t_ccp_ml_inicial = time.clock()\n",
    "KNN_ml_pearson  = KNNBasic(sim_options = my_sim_option_pearson, verbose = True)\n",
    "KNN_ml_pearson.fit(trainset_ml)\n",
    "t_ccp_ml_final = time.clock() - t_ccp_ml_inicial\n",
    "\n",
    "\n",
    "bcd_ccp_init = time.clock()\n",
    "KNN_bcd_pearson = KNNBasic(sim_options = my_sim_option_pearson, verbose = True)\n",
    "KNN_bcd.fit(trainset_bcd)\n",
    "bcd_ccp_final = time.clock() - bcd_ccp_init\n",
    "\n",
    "\n",
    "rdc_ccp_init = time.clock()\n",
    "KNN_rdc_pearson = KNNBasic(sim_options = my_sim_option_pearson, verbose = True)\n",
    "KNN_rdc_pearson.fit(trainset_rdc)\n",
    "rdc_ccp_final = time.clock() - rdc_ccp_init"
   ]
  },
  {
   "cell_type": "code",
   "execution_count": 11,
   "metadata": {},
   "outputs": [],
   "source": [
    "#predição base de Test\n",
    "KNN_predictions_ml_pearson  = KNN_ml_pearson.test(testset_ml)\n",
    "KNN_predictions_bcd_pearson  = KNN_bcd.test(testset_bcd)\n",
    "KNN_predictions_rdc_pearson = KNN_rdc_pearson.test(testset_rdc)"
   ]
  },
  {
   "cell_type": "code",
   "execution_count": 12,
   "metadata": {},
   "outputs": [
    {
     "name": "stdout",
     "output_type": "stream",
     "text": [
      "RMSE: 1.0213\n",
      "rmse MovieLens: 1.0213474337685258\n",
      "RMSE: 1.0316\n",
      "rmse Book: 1.0315524316589013\n",
      "RMSE: 1.0987\n",
      "rmse Restaurant: 1.0986704580052973\n"
     ]
    }
   ],
   "source": [
    "# Verificar o valor do erro quadrático médico para verificar a qualidade do  modelo.\n",
    "print(\"rmse MovieLens:\",accuracy.rmse(KNN_predictions_ml_pearson))\n",
    "print(\"rmse Book:\",accuracy.rmse(KNN_predictions_bcd_pearson))\n",
    "print(\"rmse Restaurant:\",accuracy.rmse(KNN_predictions_rdc_pearson))"
   ]
  },
  {
   "cell_type": "code",
   "execution_count": 13,
   "metadata": {},
   "outputs": [
    {
     "name": "stdout",
     "output_type": "stream",
     "text": [
      "MAE:  0.8099\n",
      "mae MovieLens: 0.8098674173933262\n",
      "MAE:  0.8129\n",
      "mae Book: 0.8129046586572023\n",
      "MAE:  0.9030\n",
      "mae Restaurant: 0.903028380705733\n"
     ]
    }
   ],
   "source": [
    "# Verificar o valor do erro quadrático médico para verificar a qualidade do  modelo.\n",
    "print(\"mae MovieLens:\",accuracy.mae(KNN_predictions_ml_pearson))\n",
    "print(\"mae Book:\",accuracy.mae(KNN_predictions_bcd_pearson))\n",
    "print(\"mae Restaurant:\",accuracy.mae(KNN_predictions_rdc_pearson))"
   ]
  },
  {
   "cell_type": "markdown",
   "metadata": {
    "colab_type": "text",
    "id": "1f0GQxrqXJEi"
   },
   "source": [
    "### Implementação para a Similaridade Cosseno \n",
    "\n",
    "\n",
    "Nessa etapa foi implementado a Fc baseado em memória, usando como métrica de avaliação a similaridade cosseno. "
   ]
  },
  {
   "cell_type": "code",
   "execution_count": 14,
   "metadata": {
    "colab": {},
    "colab_type": "code",
    "id": "0IoNW0Ef8YRw"
   },
   "outputs": [
    {
     "name": "stdout",
     "output_type": "stream",
     "text": [
      "Computing the cosine similarity matrix...\n",
      "Done computing similarity matrix.\n",
      "Computing the cosine similarity matrix...\n",
      "Done computing similarity matrix.\n",
      "Computing the cosine similarity matrix...\n",
      "Done computing similarity matrix.\n"
     ]
    },
    {
     "data": {
      "text/plain": [
       "<surprise.prediction_algorithms.knns.KNNBasic at 0x7f2254d8a940>"
      ]
     },
     "execution_count": 14,
     "metadata": {},
     "output_type": "execute_result"
    }
   ],
   "source": [
    "my_sim_option_cosine = {'name':'cosine', 'user_based':True}\n",
    "\n",
    "\n",
    "KNN_ml_cosine  = KNNBasic(sim_options = my_sim_option_cosine, verbose = True)\n",
    "KNN_bcd_cosine = KNNBasic(sim_options = my_sim_option_cosine, verbose = True)\n",
    "KNN_rdc_cosine = KNNBasic(sim_options = my_sim_option_cosine, verbose = True)\n",
    "\n",
    "\n",
    "# Criando o Modelo\n",
    "KNN_ml_cosine.fit(trainset_ml)\n",
    "KNN_bcd_cosine.fit(trainset_bcd)\n",
    "KNN_rdc_cosine.fit(trainset_rdc)"
   ]
  },
  {
   "cell_type": "code",
   "execution_count": 15,
   "metadata": {},
   "outputs": [],
   "source": [
    "#predição base de Test\n",
    "KNN_predictions_ml_cosine  = KNN_ml_cosine.test(testset_ml)\n",
    "KNN_predictions_bcd_cosine = KNN_bcd_cosine.test(testset_bcd)\n",
    "KNN_predictions_rdc_cosine = KNN_rdc_cosine.test(testset_rdc)"
   ]
  },
  {
   "cell_type": "code",
   "execution_count": 16,
   "metadata": {},
   "outputs": [
    {
     "name": "stdout",
     "output_type": "stream",
     "text": [
      "RMSE: 1.0244\n",
      "rmse MovieLens: 1.0243627525567949\n",
      "RMSE: 0.9812\n",
      "rmse Book: 0.9811851621398898\n",
      "RMSE: 1.1115\n",
      "rmse Restaurant: 1.1114581838800037\n"
     ]
    }
   ],
   "source": [
    "# Verificar o valor do erro quadrático médico para verificar a qualidade do  modelo.\n",
    "print(\"rmse MovieLens:\",accuracy.rmse(KNN_predictions_ml_cosine))\n",
    "print(\"rmse Book:\",accuracy.rmse(KNN_predictions_bcd_cosine))\n",
    "print(\"rmse Restaurant:\",accuracy.rmse(KNN_predictions_rdc_cosine))"
   ]
  },
  {
   "cell_type": "code",
   "execution_count": 17,
   "metadata": {},
   "outputs": [
    {
     "name": "stdout",
     "output_type": "stream",
     "text": [
      "MAE:  0.8099\n",
      "mae MovieLens: 0.8098724379694351\n",
      "MAE:  0.7785\n",
      "mae Book: 0.7784777010284563\n",
      "MAE:  0.9162\n",
      "mae Restaurant: 0.9161679502019547\n"
     ]
    }
   ],
   "source": [
    "\n",
    "# Verificar o valor do erro quadrático médico para verificar a qualidade do  modelo.\n",
    "print(\"mae MovieLens:\",accuracy.mae(KNN_predictions_ml_cosine))\n",
    "print(\"mae Book:\",accuracy.mae(KNN_predictions_bcd_cosine))\n",
    "print(\"mae Restaurant:\",accuracy.mae(KNN_predictions_rdc_cosine))"
   ]
  },
  {
   "cell_type": "markdown",
   "metadata": {},
   "source": [
    "### Calculando o Recall para Correlação de Pearson"
   ]
  },
  {
   "cell_type": "code",
   "execution_count": 18,
   "metadata": {},
   "outputs": [],
   "source": [
    "from collections import defaultdict\n",
    "\n",
    "def precision_recall_at_k(predictions, k=10, threshold=3.5):\n",
    "    \"\"\"Return precision and recall at k metrics for each user\"\"\"\n",
    "\n",
    "    # First map the predictions to each user.\n",
    "    user_est_true = defaultdict(list)\n",
    "    for uid, _, true_r, est, _ in predictions:\n",
    "        user_est_true[uid].append((est, true_r))\n",
    "\n",
    "    precisions = dict()\n",
    "    recalls = dict()\n",
    "    for uid, user_ratings in user_est_true.items():\n",
    "\n",
    "        # Sort user ratings by estimated value\n",
    "        user_ratings.sort(key=lambda x: x[0], reverse=True)\n",
    "\n",
    "        # Number of relevant items\n",
    "        n_rel = sum((true_r >= threshold) for (_, true_r) in user_ratings)\n",
    "\n",
    "        # Number of recommended items in top k\n",
    "        n_rec_k = sum((est >= threshold) for (est, _) in user_ratings[:k])\n",
    "\n",
    "        # Number of relevant and recommended items in top k\n",
    "        n_rel_and_rec_k = sum(((true_r >= threshold) and (est >= threshold))\n",
    "                              for (est, true_r) in user_ratings[:k])\n",
    "\n",
    "        # Precision@K: Proportion of recommended items that are relevant\n",
    "        # When n_rec_k is 0, Precision is undefined. We here set it to 0.\n",
    "\n",
    "        precisions[uid] = n_rel_and_rec_k / n_rec_k if n_rec_k != 0 else 0\n",
    "\n",
    "        # Recall@K: Proportion of relevant items that are recommended\n",
    "        # When n_rel is 0, Recall is undefined. We here set it to 0.\n",
    "\n",
    "        recalls[uid] = n_rel_and_rec_k / n_rel if n_rel != 0 else 0\n",
    "\n",
    "    return precisions, recalls"
   ]
  },
  {
   "cell_type": "code",
   "execution_count": 19,
   "metadata": {},
   "outputs": [
    {
     "name": "stdout",
     "output_type": "stream",
     "text": [
      "Movielens  0.48568138028244323\n",
      "Books  0.769918055441254\n",
      "RDC 0.8167256985438804\n"
     ]
    }
   ],
   "source": [
    "# Escolhendo Corte como 3.5\n",
    "\n",
    "#predição base de Test\n",
    "k = 10\n",
    "threshold = 3.5\n",
    "\n",
    "pearson_precisions_ml, pearson_recalls_ml = precision_recall_at_k(KNN_predictions_ml_pearson,k=k, threshold=threshold)\n",
    "\n",
    "pearson_precisions_bcd, pearson_recalls_bcd = precision_recall_at_k(KNN_predictions_bcd_pearson,k=k, threshold=threshold)\n",
    "\n",
    "pearson_precisions_rdc, pearson_recalls_rdc = precision_recall_at_k(KNN_predictions_rdc_pearson,k=k, threshold=threshold)\n",
    "\n",
    "\n",
    "print('Movielens ',sum(rec for rec in pearson_recalls_ml.values()) / len(pearson_recalls_ml))\n",
    "\n",
    "print('Books ',sum(rec for rec in pearson_recalls_bcd.values()) / len(pearson_recalls_bcd))\n",
    "\n",
    "print('RDC', sum(rec for rec in pearson_recalls_rdc.values()) / len(pearson_recalls_rdc))"
   ]
  },
  {
   "cell_type": "markdown",
   "metadata": {},
   "source": [
    "## Calculando o Recall para a Similaridade Cosseno"
   ]
  },
  {
   "cell_type": "code",
   "execution_count": 20,
   "metadata": {},
   "outputs": [
    {
     "name": "stdout",
     "output_type": "stream",
     "text": [
      "Movielens  0.7279800322214656\n",
      "Books  0.7774767093214215\n",
      "RDC 0.7292798110979928\n"
     ]
    }
   ],
   "source": [
    "# Escolhendo Corte como 3.5\n",
    "\n",
    "#predição base de Test\n",
    "k = 50\n",
    "threshold = 3.5\n",
    "\n",
    "cosine_precisions_ml, cosine_recalls_ml = precision_recall_at_k(KNN_predictions_ml_cosine,k=k, threshold=threshold)\n",
    "\n",
    "cosine_precisions_bcd, cosine_recalls_bcd = precision_recall_at_k(KNN_predictions_bcd_cosine,k=k, threshold=threshold)\n",
    "\n",
    "cosine_precisions_rdc, cosine_recalls_rdc = precision_recall_at_k(KNN_predictions_rdc_cosine,k=k, threshold=threshold)\n",
    "\n",
    "\n",
    "print('Movielens ',sum(rec for rec in cosine_recalls_ml.values()) / len(cosine_recalls_ml))\n",
    "\n",
    "print('Books ',sum(rec for rec in cosine_recalls_bcd.values()) / len(cosine_recalls_bcd))\n",
    "\n",
    "print('RDC', sum(rec for rec in cosine_recalls_rdc.values()) / len(cosine_recalls_rdc))"
   ]
  },
  {
   "cell_type": "code",
   "execution_count": 21,
   "metadata": {},
   "outputs": [],
   "source": [
    "#KNN_predictions_rdc_cosine"
   ]
  },
  {
   "cell_type": "code",
   "execution_count": 22,
   "metadata": {},
   "outputs": [],
   "source": [
    " # First map the predictions to each user.\n",
    "user_est_true = defaultdict(list)\n",
    "for uid, _, true_r, est, _ in KNN_predictions_rdc_cosine:\n",
    "    user_est_true[uid].append((est, true_r))"
   ]
  },
  {
   "cell_type": "code",
   "execution_count": null,
   "metadata": {},
   "outputs": [],
   "source": []
  },
  {
   "cell_type": "code",
   "execution_count": null,
   "metadata": {},
   "outputs": [],
   "source": []
  },
  {
   "cell_type": "code",
   "execution_count": null,
   "metadata": {},
   "outputs": [],
   "source": []
  },
  {
   "cell_type": "code",
   "execution_count": null,
   "metadata": {},
   "outputs": [],
   "source": []
  },
  {
   "cell_type": "code",
   "execution_count": null,
   "metadata": {},
   "outputs": [],
   "source": []
  },
  {
   "cell_type": "code",
   "execution_count": null,
   "metadata": {},
   "outputs": [],
   "source": []
  }
 ],
 "metadata": {
  "colab": {
   "authorship_tag": "ABX9TyOTNFEeRHd5aQP6PV3OSozk",
   "collapsed_sections": [],
   "name": "FC Baseado em Memória.ipynb",
   "private_outputs": true,
   "provenance": []
  },
  "kernelspec": {
   "display_name": "Python 3",
   "language": "python",
   "name": "python3"
  },
  "language_info": {
   "codemirror_mode": {
    "name": "ipython",
    "version": 3
   },
   "file_extension": ".py",
   "mimetype": "text/x-python",
   "name": "python",
   "nbconvert_exporter": "python",
   "pygments_lexer": "ipython3",
   "version": "3.6.9"
  }
 },
 "nbformat": 4,
 "nbformat_minor": 4
}
