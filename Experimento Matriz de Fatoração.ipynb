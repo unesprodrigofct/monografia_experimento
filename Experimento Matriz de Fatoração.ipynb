{
 "cells": [
  {
   "cell_type": "markdown",
   "metadata": {
    "colab_type": "text",
    "id": "HIPgeGgulpke"
   },
   "source": [
    "Experimento  - Comparação dos métodos de Filtragem Colaborativa (FC)\n",
    "\n",
    "Nesse experimento, será implementado uma comparação entre os métodos de FC baseado em memória e baseado em Modelo.\n",
    "\n",
    "A comparação é feita usando os seguintes dataset\n",
    "\n",
    "\n",
    "\n",
    "*   MovieLens (ML): Sobre avaliações de filmes\n",
    "*   Restaurant & consumer data Data Set (RCD): Avaliação de Restaurante\n",
    "*   LastFM (LFM): Sobre Musica\n",
    "*   Book-Crossing Dataset (BCD): Avaliação sobre Livros\n",
    "\n",
    "\n"
   ]
  },
  {
   "cell_type": "code",
   "execution_count": 1,
   "metadata": {
    "colab": {},
    "colab_type": "code",
    "executionInfo": {
     "elapsed": 805,
     "status": "ok",
     "timestamp": 1594940797246,
     "user": {
      "displayName": "rodrigo santos",
      "photoUrl": "https://lh3.googleusercontent.com/a-/AOh14GjQjf2sZd28oKnqwU7xdr5mL9ANI2aEz_PX8oaW=s64",
      "userId": "09613078386678637656"
     },
     "user_tz": 180
    },
    "id": "KBMROespF6ME"
   },
   "outputs": [],
   "source": [
    "#!pip install surprise\n"
   ]
  },
  {
   "cell_type": "code",
   "execution_count": 2,
   "metadata": {},
   "outputs": [],
   "source": [
    "#!pip install pyspark"
   ]
  },
  {
   "cell_type": "code",
   "execution_count": 3,
   "metadata": {},
   "outputs": [],
   "source": [
    "azure = True\n",
    "g_colab = False"
   ]
  },
  {
   "cell_type": "code",
   "execution_count": 4,
   "metadata": {
    "colab": {},
    "colab_type": "code",
    "executionInfo": {
     "elapsed": 796,
     "status": "ok",
     "timestamp": 1594940797248,
     "user": {
      "displayName": "rodrigo santos",
      "photoUrl": "https://lh3.googleusercontent.com/a-/AOh14GjQjf2sZd28oKnqwU7xdr5mL9ANI2aEz_PX8oaW=s64",
      "userId": "09613078386678637656"
     },
     "user_tz": 180
    },
    "id": "BFE5Bl8Alo9j"
   },
   "outputs": [],
   "source": [
    "import pandas as pd\n",
    "import numpy as np"
   ]
  },
  {
   "cell_type": "code",
   "execution_count": 5,
   "metadata": {
    "colab": {},
    "colab_type": "code",
    "executionInfo": {
     "elapsed": 1860,
     "status": "ok",
     "timestamp": 1594940798326,
     "user": {
      "displayName": "rodrigo santos",
      "photoUrl": "https://lh3.googleusercontent.com/a-/AOh14GjQjf2sZd28oKnqwU7xdr5mL9ANI2aEz_PX8oaW=s64",
      "userId": "09613078386678637656"
     },
     "user_tz": 180
    },
    "id": "K2KTkU92lAzh"
   },
   "outputs": [],
   "source": [
    "if azure:\n",
    "    path_bcd =\"./dataset FC/RatingBook/ratings.csv\"\n",
    "    path_ml  = \"./dataset FC/ML/ml-100k/rating_ml.csv\"\n",
    "    path_rdc = \"./dataset FC/RDC/rating_final.csv\"\n",
    "    \n",
    "    \n",
    "if g_colab:\n",
    "    from google.colab import drive \n",
    "    drive.mount('/content/gdrive')\n",
    "    path_bcd =\"/content/gdrive/My Drive/Monografia/dataset FC/RatingBook/ratings.csv\"\n",
    "    path_ml = \"/content/gdrive/My Drive/Monografia/dataset FC/ML/ml-100k/rating_ml.csv\"\n",
    "    path_rdc = \"/content/gdrive/My Drive/Monografia/dataset FC/RDC/rating_final.csv\""
   ]
  },
  {
   "cell_type": "code",
   "execution_count": 6,
   "metadata": {
    "colab": {
     "base_uri": "https://localhost:8080/",
     "height": 251
    },
    "colab_type": "code",
    "executionInfo": {
     "elapsed": 2121,
     "status": "ok",
     "timestamp": 1594940798599,
     "user": {
      "displayName": "rodrigo santos",
      "photoUrl": "https://lh3.googleusercontent.com/a-/AOh14GjQjf2sZd28oKnqwU7xdr5mL9ANI2aEz_PX8oaW=s64",
      "userId": "09613078386678637656"
     },
     "user_tz": 180
    },
    "id": "bdGwvE-AlA35",
    "outputId": "ca489be7-8d50-4433-96a2-3307fbf52441"
   },
   "outputs": [
    {
     "name": "stdout",
     "output_type": "stream",
     "text": [
      "Escala Minima Rating: 1\n",
      "Escala maxima Rating: 5\n",
      "Numero de avaliaçoes 981756\n",
      "Numero de Usuários 53424\n",
      "Numero de itens 10000\n"
     ]
    },
    {
     "data": {
      "text/html": [
       "<div>\n",
       "<style scoped>\n",
       "    .dataframe tbody tr th:only-of-type {\n",
       "        vertical-align: middle;\n",
       "    }\n",
       "\n",
       "    .dataframe tbody tr th {\n",
       "        vertical-align: top;\n",
       "    }\n",
       "\n",
       "    .dataframe thead th {\n",
       "        text-align: right;\n",
       "    }\n",
       "</style>\n",
       "<table border=\"1\" class=\"dataframe\">\n",
       "  <thead>\n",
       "    <tr style=\"text-align: right;\">\n",
       "      <th></th>\n",
       "      <th>itemid</th>\n",
       "      <th>userid</th>\n",
       "      <th>rating</th>\n",
       "    </tr>\n",
       "  </thead>\n",
       "  <tbody>\n",
       "    <tr>\n",
       "      <th>0</th>\n",
       "      <td>1</td>\n",
       "      <td>314</td>\n",
       "      <td>5</td>\n",
       "    </tr>\n",
       "    <tr>\n",
       "      <th>1</th>\n",
       "      <td>3</td>\n",
       "      <td>314</td>\n",
       "      <td>3</td>\n",
       "    </tr>\n",
       "    <tr>\n",
       "      <th>2</th>\n",
       "      <td>5</td>\n",
       "      <td>314</td>\n",
       "      <td>4</td>\n",
       "    </tr>\n",
       "    <tr>\n",
       "      <th>3</th>\n",
       "      <td>6</td>\n",
       "      <td>314</td>\n",
       "      <td>5</td>\n",
       "    </tr>\n",
       "    <tr>\n",
       "      <th>4</th>\n",
       "      <td>12</td>\n",
       "      <td>314</td>\n",
       "      <td>4</td>\n",
       "    </tr>\n",
       "  </tbody>\n",
       "</table>\n",
       "</div>"
      ],
      "text/plain": [
       "   itemid  userid  rating\n",
       "0       1     314       5\n",
       "1       3     314       3\n",
       "2       5     314       4\n",
       "3       6     314       5\n",
       "4      12     314       4"
      ]
     },
     "execution_count": 6,
     "metadata": {},
     "output_type": "execute_result"
    }
   ],
   "source": [
    "df_book=pd.read_csv(path_bcd)\n",
    "df_book = df_book.rename(columns = {\"book_id\":\"itemid\",\"user_id\":\"userid\"})\n",
    "\n",
    "qr = df_book[[\"userid\",\"rating\"]].groupby(\"userid\").count() \n",
    "#qr = qr[qr[\"rating\"] > 3]\n",
    "ur = qr.index.unique()\n",
    "df_ur  = pd.DataFrame(ur)\n",
    "df_book = df_book.merge(df_ur,how = 'inner',on =  \"userid\")\n",
    "\n",
    "print('Escala Minima Rating:',np.min(df_book[\"rating\"]))\n",
    "print('Escala maxima Rating:',np.max(df_book[\"rating\"]))\n",
    "print(\"Numero de avaliaçoes\",len(df_book))\n",
    "print(\"Numero de Usuários\",len(df_book.userid.unique()))\n",
    "print(\"Numero de itens\",len(df_book.itemid.unique()))\n",
    "df_book.head()"
   ]
  },
  {
   "cell_type": "code",
   "execution_count": 7,
   "metadata": {},
   "outputs": [
    {
     "name": "stdout",
     "output_type": "stream",
     "text": [
      "Numero de avaliaçoes 1161\n",
      "Numero de Usuários 138\n",
      "Numero de itens 130\n",
      "Numero de avaliaçoes 1161\n",
      "Escala Minima Rating: 1\n",
      "Escala maxima Rating: 3\n"
     ]
    },
    {
     "data": {
      "text/html": [
       "<div>\n",
       "<style scoped>\n",
       "    .dataframe tbody tr th:only-of-type {\n",
       "        vertical-align: middle;\n",
       "    }\n",
       "\n",
       "    .dataframe tbody tr th {\n",
       "        vertical-align: top;\n",
       "    }\n",
       "\n",
       "    .dataframe thead th {\n",
       "        text-align: right;\n",
       "    }\n",
       "</style>\n",
       "<table border=\"1\" class=\"dataframe\">\n",
       "  <thead>\n",
       "    <tr style=\"text-align: right;\">\n",
       "      <th></th>\n",
       "      <th>userid</th>\n",
       "      <th>itemid</th>\n",
       "      <th>rating</th>\n",
       "    </tr>\n",
       "  </thead>\n",
       "  <tbody>\n",
       "    <tr>\n",
       "      <th>0</th>\n",
       "      <td>1077</td>\n",
       "      <td>135085</td>\n",
       "      <td>3</td>\n",
       "    </tr>\n",
       "    <tr>\n",
       "      <th>1</th>\n",
       "      <td>1077</td>\n",
       "      <td>135038</td>\n",
       "      <td>3</td>\n",
       "    </tr>\n",
       "    <tr>\n",
       "      <th>2</th>\n",
       "      <td>1077</td>\n",
       "      <td>132825</td>\n",
       "      <td>3</td>\n",
       "    </tr>\n",
       "    <tr>\n",
       "      <th>3</th>\n",
       "      <td>1077</td>\n",
       "      <td>135060</td>\n",
       "      <td>2</td>\n",
       "    </tr>\n",
       "    <tr>\n",
       "      <th>4</th>\n",
       "      <td>1068</td>\n",
       "      <td>135104</td>\n",
       "      <td>2</td>\n",
       "    </tr>\n",
       "  </tbody>\n",
       "</table>\n",
       "</div>"
      ],
      "text/plain": [
       "   userid  itemid  rating\n",
       "0    1077  135085       3\n",
       "1    1077  135038       3\n",
       "2    1077  132825       3\n",
       "3    1077  135060       2\n",
       "4    1068  135104       2"
      ]
     },
     "execution_count": 7,
     "metadata": {},
     "output_type": "execute_result"
    }
   ],
   "source": [
    "df_rdc=pd.read_csv(path_rdc)\n",
    "print(\"Numero de avaliaçoes\",len(df_rdc))\n",
    "print(\"Numero de Usuários\",len(df_rdc.userID.unique()))\n",
    "print(\"Numero de itens\",len(df_rdc.placeID.unique()))\n",
    "df_rdc['userID'] = pd.to_numeric(df_rdc['userID'].map(lambda x: x.replace('U','')))\n",
    "df_rdc = df_rdc.rename(columns = {\"userID\":\"userid\",\"placeID\":\"itemid\"})\n",
    "df_rdc = df_rdc.drop(columns = {\"food_rating\",\"service_rating\"})\n",
    "\n",
    "#trocando a escala de 0 a 2 para 1 a 3.\n",
    "df_rdc[\"rating\"] = df_rdc[\"rating\"] + 1\n",
    "\n",
    "print(\"Numero de avaliaçoes\",len(df_rdc))\n",
    "print('Escala Minima Rating:',np.min(df_rdc[\"rating\"]))\n",
    "print('Escala maxima Rating:',np.max(df_rdc[\"rating\"]))\n",
    "df_rdc.head()"
   ]
  },
  {
   "cell_type": "code",
   "execution_count": 8,
   "metadata": {},
   "outputs": [
    {
     "data": {
      "text/html": [
       "<div>\n",
       "<style scoped>\n",
       "    .dataframe tbody tr th:only-of-type {\n",
       "        vertical-align: middle;\n",
       "    }\n",
       "\n",
       "    .dataframe tbody tr th {\n",
       "        vertical-align: top;\n",
       "    }\n",
       "\n",
       "    .dataframe thead th {\n",
       "        text-align: right;\n",
       "    }\n",
       "</style>\n",
       "<table border=\"1\" class=\"dataframe\">\n",
       "  <thead>\n",
       "    <tr style=\"text-align: right;\">\n",
       "      <th></th>\n",
       "      <th>userid</th>\n",
       "      <th>itemid</th>\n",
       "      <th>rating</th>\n",
       "    </tr>\n",
       "  </thead>\n",
       "  <tbody>\n",
       "    <tr>\n",
       "      <th>0</th>\n",
       "      <td>1077</td>\n",
       "      <td>135085</td>\n",
       "      <td>5.00</td>\n",
       "    </tr>\n",
       "    <tr>\n",
       "      <th>1</th>\n",
       "      <td>1077</td>\n",
       "      <td>135038</td>\n",
       "      <td>5.00</td>\n",
       "    </tr>\n",
       "    <tr>\n",
       "      <th>2</th>\n",
       "      <td>1077</td>\n",
       "      <td>132825</td>\n",
       "      <td>5.00</td>\n",
       "    </tr>\n",
       "    <tr>\n",
       "      <th>3</th>\n",
       "      <td>1077</td>\n",
       "      <td>135060</td>\n",
       "      <td>3.67</td>\n",
       "    </tr>\n",
       "    <tr>\n",
       "      <th>4</th>\n",
       "      <td>1068</td>\n",
       "      <td>135104</td>\n",
       "      <td>3.67</td>\n",
       "    </tr>\n",
       "  </tbody>\n",
       "</table>\n",
       "</div>"
      ],
      "text/plain": [
       "   userid  itemid  rating\n",
       "0    1077  135085    5.00\n",
       "1    1077  135038    5.00\n",
       "2    1077  132825    5.00\n",
       "3    1077  135060    3.67\n",
       "4    1068  135104    3.67"
      ]
     },
     "execution_count": 8,
     "metadata": {},
     "output_type": "execute_result"
    }
   ],
   "source": [
    "#Normalização do Rating entre 1 a 5\n",
    "max_rating = np.max(df_rdc[\"rating\"]) \n",
    "df_rdc[\"rating\"] = (df_rdc[\"rating\"]*4) / max_rating + 1\n",
    "df_rdc[\"rating\"] = df_rdc[\"rating\"].round(2)\n",
    "df_rdc.head()"
   ]
  },
  {
   "cell_type": "code",
   "execution_count": 9,
   "metadata": {
    "colab": {
     "base_uri": "https://localhost:8080/",
     "height": 251
    },
    "colab_type": "code",
    "executionInfo": {
     "elapsed": 2116,
     "status": "ok",
     "timestamp": 1594940798600,
     "user": {
      "displayName": "rodrigo santos",
      "photoUrl": "https://lh3.googleusercontent.com/a-/AOh14GjQjf2sZd28oKnqwU7xdr5mL9ANI2aEz_PX8oaW=s64",
      "userId": "09613078386678637656"
     },
     "user_tz": 180
    },
    "id": "0pFmoZ60lA63",
    "outputId": "a2bca120-1e21-441e-f03f-75d9b31485b0"
   },
   "outputs": [
    {
     "name": "stdout",
     "output_type": "stream",
     "text": [
      "Escala Minima Rating: 1\n",
      "Escala maxima Rating: 5\n",
      "Numero de avaliaçoes 100000\n"
     ]
    },
    {
     "data": {
      "text/html": [
       "<div>\n",
       "<style scoped>\n",
       "    .dataframe tbody tr th:only-of-type {\n",
       "        vertical-align: middle;\n",
       "    }\n",
       "\n",
       "    .dataframe tbody tr th {\n",
       "        vertical-align: top;\n",
       "    }\n",
       "\n",
       "    .dataframe thead th {\n",
       "        text-align: right;\n",
       "    }\n",
       "</style>\n",
       "<table border=\"1\" class=\"dataframe\">\n",
       "  <thead>\n",
       "    <tr style=\"text-align: right;\">\n",
       "      <th></th>\n",
       "      <th>userid</th>\n",
       "      <th>itemid</th>\n",
       "      <th>rating</th>\n",
       "      <th>timestamp</th>\n",
       "    </tr>\n",
       "  </thead>\n",
       "  <tbody>\n",
       "    <tr>\n",
       "      <th>0</th>\n",
       "      <td>196</td>\n",
       "      <td>242</td>\n",
       "      <td>3</td>\n",
       "      <td>881250949</td>\n",
       "    </tr>\n",
       "    <tr>\n",
       "      <th>1</th>\n",
       "      <td>186</td>\n",
       "      <td>302</td>\n",
       "      <td>3</td>\n",
       "      <td>891717742</td>\n",
       "    </tr>\n",
       "    <tr>\n",
       "      <th>2</th>\n",
       "      <td>22</td>\n",
       "      <td>377</td>\n",
       "      <td>1</td>\n",
       "      <td>878887116</td>\n",
       "    </tr>\n",
       "    <tr>\n",
       "      <th>3</th>\n",
       "      <td>244</td>\n",
       "      <td>51</td>\n",
       "      <td>2</td>\n",
       "      <td>880606923</td>\n",
       "    </tr>\n",
       "    <tr>\n",
       "      <th>4</th>\n",
       "      <td>166</td>\n",
       "      <td>346</td>\n",
       "      <td>1</td>\n",
       "      <td>886397596</td>\n",
       "    </tr>\n",
       "  </tbody>\n",
       "</table>\n",
       "</div>"
      ],
      "text/plain": [
       "   userid  itemid  rating  timestamp\n",
       "0     196     242       3  881250949\n",
       "1     186     302       3  891717742\n",
       "2      22     377       1  878887116\n",
       "3     244      51       2  880606923\n",
       "4     166     346       1  886397596"
      ]
     },
     "execution_count": 9,
     "metadata": {},
     "output_type": "execute_result"
    }
   ],
   "source": [
    "df_ml=pd.read_csv(path_ml,sep= \";\")\n",
    "print('Escala Minima Rating:',np.min(df_ml[\"rating\"]))\n",
    "print('Escala maxima Rating:',np.max(df_ml[\"rating\"]))\n",
    "print(\"Numero de avaliaçoes\",len(df_ml))\n",
    "df_ml.head()"
   ]
  },
  {
   "cell_type": "markdown",
   "metadata": {
    "colab_type": "text",
    "id": "8nAPuNkkp1l0"
   },
   "source": [
    "***Modelo baseado em Filtragem Colaborativa usando Singular Value Decomposition (SVD) ***\n",
    "\n",
    "\n",
    "Nessa etapa sera implementado o SVD para todos os datasets"
   ]
  },
  {
   "cell_type": "markdown",
   "metadata": {
    "colab_type": "text",
    "id": "pkp7wsYAYpxq"
   },
   "source": [
    "Nesse passo sera criado a partição de treino e teste para todos os dataset. O objetivo é usar as mesmas  partição para todos os métodos.\n"
   ]
  },
  {
   "cell_type": "code",
   "execution_count": 10,
   "metadata": {
    "colab": {},
    "colab_type": "code",
    "executionInfo": {
     "elapsed": 2100,
     "status": "ok",
     "timestamp": 1594940798601,
     "user": {
      "displayName": "rodrigo santos",
      "photoUrl": "https://lh3.googleusercontent.com/a-/AOh14GjQjf2sZd28oKnqwU7xdr5mL9ANI2aEz_PX8oaW=s64",
      "userId": "09613078386678637656"
     },
     "user_tz": 180
    },
    "id": "2y7cihOy038q"
   },
   "outputs": [],
   "source": [
    "from surprise.model_selection import cross_validate\n",
    "from surprise import Dataset, Reader, SVD, accuracy\n",
    "from surprise.model_selection import train_test_split\n",
    "import pandas as pd\n",
    "import numpy  as np"
   ]
  },
  {
   "cell_type": "code",
   "execution_count": 11,
   "metadata": {
    "colab": {
     "base_uri": "https://localhost:8080/",
     "height": 387
    },
    "colab_type": "code",
    "executionInfo": {
     "elapsed": 58938,
     "status": "error",
     "timestamp": 1594940855445,
     "user": {
      "displayName": "rodrigo santos",
      "photoUrl": "https://lh3.googleusercontent.com/a-/AOh14GjQjf2sZd28oKnqwU7xdr5mL9ANI2aEz_PX8oaW=s64",
      "userId": "09613078386678637656"
     },
     "user_tz": 180
    },
    "id": "OAsmUE_GqOQM",
    "outputId": "5d2472c3-3cd4-4353-b446-398381f7c117"
   },
   "outputs": [],
   "source": [
    "# Ler os dados sobre rating \n",
    "reader_ml  = Reader(rating_scale=(1, 5))\n",
    "reader_bcd  = Reader(rating_scale=(1, 5))\n",
    "reader_rdc  = Reader(rating_scale=(1, 5))\n",
    "\n",
    "data_ml = Dataset.load_from_df(df_ml[['userid','itemid','rating']], reader_ml)\n",
    "data_book = Dataset.load_from_df(df_book[['userid','itemid','rating']], reader_bcd)\n",
    "data_rdc = Dataset.load_from_df(df_rdc[['userid','itemid','rating']], reader_rdc)\n",
    " \n",
    "# Treinamento com 70% da massa de dados e deixar 30% para fazer a validação\n",
    "trainset_ml,  testset_ml  = train_test_split(data_ml,   test_size=.30,random_state=42)\n",
    "trainset_bcd, testset_bcd = train_test_split(data_book, test_size=.30,random_state=42)\n",
    "trainset_rdc, testset_rdc = train_test_split(data_rdc,  test_size=.30,random_state=42)\n",
    "\n",
    "\n",
    "SVD_ml  = SVD()\n",
    "SVD_bcd = SVD()\n",
    "SVD_rdc = SVD()\n",
    "\n",
    "\n",
    "\n",
    "# Criando o Modelo\n",
    "SVD_ml.fit(trainset_ml)\n",
    "SVD_bcd.fit(trainset_bcd)\n",
    "SVD_rdc.fit(trainset_rdc)\n",
    "\n",
    "#predição base de Test\n",
    "SVD_predictions_ml  = SVD_ml.test(testset_ml)\n",
    "SVD_predictions_bcd = SVD_bcd.test(testset_bcd)\n",
    "SVD_predictions_rdc = SVD_rdc.test(testset_rdc)\n",
    "\n"
   ]
  },
  {
   "cell_type": "code",
   "execution_count": 12,
   "metadata": {},
   "outputs": [
    {
     "name": "stdout",
     "output_type": "stream",
     "text": [
      "RMSE: 0.9450\n",
      "rmse MovieLens: 0.9450446152058093\n",
      "RMSE: 0.8488\n",
      "rmse Book: 0.8488450533877537\n",
      "RMSE: 0.8905\n",
      "rmse Restaurant: 0.8904663383210858\n"
     ]
    }
   ],
   "source": [
    "# Verificar o valor do erro quadrático médico para verificar a qualidade do  modelo.\n",
    "print(\"rmse MovieLens:\",accuracy.rmse(SVD_predictions_ml))\n",
    "print(\"rmse Book:\",accuracy.rmse(SVD_predictions_bcd))\n",
    "print(\"rmse Restaurant:\",accuracy.rmse(SVD_predictions_rdc))"
   ]
  },
  {
   "cell_type": "code",
   "execution_count": 13,
   "metadata": {},
   "outputs": [
    {
     "name": "stdout",
     "output_type": "stream",
     "text": [
      "MAE:  0.7448\n",
      "mae MovieLens: 0.7448075130624082\n",
      "MAE:  0.6649\n",
      "mae Book: 0.6648640003267104\n",
      "MAE:  0.7537\n",
      "mae Restaurant: 0.7537094859882338\n"
     ]
    }
   ],
   "source": [
    "# Verificar o valor do erro quadrático médico para verificar a qualidade do  modelo.\n",
    "print(\"mae MovieLens:\",accuracy.mae(SVD_predictions_ml))\n",
    "print(\"mae Book:\",accuracy.mae(SVD_predictions_bcd))\n",
    "print(\"mae Restaurant:\",accuracy.mae(SVD_predictions_rdc))"
   ]
  },
  {
   "cell_type": "markdown",
   "metadata": {
    "colab_type": "text",
    "id": "ibokVQ-y8-10"
   },
   "source": [
    "*Modelo baseado em Filtragem Colaborativa usando ALS*\n"
   ]
  },
  {
   "cell_type": "code",
   "execution_count": 14,
   "metadata": {
    "colab": {},
    "colab_type": "code",
    "executionInfo": {
     "elapsed": 58928,
     "status": "aborted",
     "timestamp": 1594940855438,
     "user": {
      "displayName": "rodrigo santos",
      "photoUrl": "https://lh3.googleusercontent.com/a-/AOh14GjQjf2sZd28oKnqwU7xdr5mL9ANI2aEz_PX8oaW=s64",
      "userId": "09613078386678637656"
     },
     "user_tz": 180
    },
    "id": "b-FCvsLXWCUh"
   },
   "outputs": [],
   "source": [
    "import pyspark\n",
    "from pyspark.sql import SQLContext\n",
    "import datetime\n",
    "import os\n",
    "import sys\n",
    "import glob\n",
    "from pyspark.mllib.recommendation import ALS\n",
    "from pyspark.mllib.recommendation import MatrixFactorizationModel\n",
    "from sklearn.feature_extraction.text import TfidfVectorizer\n",
    "from pyspark import SparkContext, SparkConf\n",
    "from io import StringIO\n",
    "from sklearn.metrics import mean_squared_error, mean_absolute_error\n",
    "from pyspark import SparkContext, SQLContext   \n",
    "from pyspark.ml.recommendation import ALS     \n",
    "from contextlib import contextmanager\n",
    "from pyspark import SparkContext\n",
    "from pyspark import SparkConf\n",
    "from pyspark.sql import SparkSession"
   ]
  },
  {
   "cell_type": "code",
   "execution_count": 15,
   "metadata": {
    "colab": {},
    "colab_type": "code",
    "executionInfo": {
     "elapsed": 58927,
     "status": "aborted",
     "timestamp": 1594940855439,
     "user": {
      "displayName": "rodrigo santos",
      "photoUrl": "https://lh3.googleusercontent.com/a-/AOh14GjQjf2sZd28oKnqwU7xdr5mL9ANI2aEz_PX8oaW=s64",
      "userId": "09613078386678637656"
     },
     "user_tz": 180
    },
    "id": "7CLvHq3wWCYj"
   },
   "outputs": [],
   "source": [
    "conf=SparkConf()\n",
    "conf.set(\"spark.executor.memory\", \"110g\")\n",
    "conf.set(\"spark.driver.memory\", \"110g\")\n",
    "conf.set(\"spark.cores.max\", \"16\")\n",
    "#conf.set(\"spark.driver.extraClassPath\")\n",
    "   # driver_home+'/jdbc/postgresql-9.4-1201-jdbc41.jar:'\\\n",
    "   # +driver_home+'/jdbc/clickhouse-jdbc-0.1.52.jar:'\\\n",
    "   # +driver_home+'/mongo/mongo-spark-connector_2.11-2.2.3.jar:'\\\n",
    "   # +driver_home+'/mongo/mongo-java-driver-3.8.0.jar') \n",
    "\n",
    "sc = SparkContext.getOrCreate(conf)\n",
    "\n",
    "sqlContext = SQLContext(sc)"
   ]
  },
  {
   "cell_type": "code",
   "execution_count": 16,
   "metadata": {
    "colab": {},
    "colab_type": "code",
    "executionInfo": {
     "elapsed": 58926,
     "status": "aborted",
     "timestamp": 1594940855440,
     "user": {
      "displayName": "rodrigo santos",
      "photoUrl": "https://lh3.googleusercontent.com/a-/AOh14GjQjf2sZd28oKnqwU7xdr5mL9ANI2aEz_PX8oaW=s64",
      "userId": "09613078386678637656"
     },
     "user_tz": 180
    },
    "id": "M3Uham68WCbf"
   },
   "outputs": [],
   "source": [
    "df_ml2  = sqlContext.createDataFrame(df_ml)\n",
    "df_bcd2 = sqlContext.createDataFrame(df_book)\n",
    "df_rdc2 = sqlContext.createDataFrame(df_rdc)\n",
    "\n",
    "## usando a semente 42 para garantir que as partições geradas são as mesmas\n",
    "trainset_ml_spark, testset_ml_spark   = df_ml2.randomSplit([0.7,0.3],seed =42)\n",
    "\n",
    "trainset_bcd_spark, testset_bcd_spark = df_bcd2.randomSplit([0.7,0.3],seed =42)\n",
    "\n",
    "trainset_rdc_spark, testset_rdc_spark = df_rdc2.randomSplit([0.7,0.3],seed =42)"
   ]
  },
  {
   "cell_type": "code",
   "execution_count": 17,
   "metadata": {
    "colab": {},
    "colab_type": "code",
    "executionInfo": {
     "elapsed": 58924,
     "status": "aborted",
     "timestamp": 1594940855440,
     "user": {
      "displayName": "rodrigo santos",
      "photoUrl": "https://lh3.googleusercontent.com/a-/AOh14GjQjf2sZd28oKnqwU7xdr5mL9ANI2aEz_PX8oaW=s64",
      "userId": "09613078386678637656"
     },
     "user_tz": 180
    },
    "id": "MKeHyTVHWCey"
   },
   "outputs": [],
   "source": [
    "# MovieLens \n",
    "als_ml = ALS(userCol=\"userid\",itemCol=\"itemid\",ratingCol=\"rating\",rank=5, maxIter=10, seed=42)\n",
    "model_ml = als_ml.fit(trainset_ml_spark)\n",
    "\n",
    "# Book \n",
    "als_bcd = ALS(userCol=\"userid\",itemCol=\"itemid\",ratingCol=\"rating\",rank=5, maxIter=10, seed=42)\n",
    "model_bcd = als_bcd.fit(trainset_bcd_spark)\n",
    "\n",
    "# Restaurant \n",
    "als_rdc = ALS(userCol=\"userid\",itemCol=\"itemid\",ratingCol=\"rating\",rank=5, maxIter=10, seed=42)\n",
    "model_rdc = als_rdc.fit(trainset_rdc_spark)"
   ]
  },
  {
   "cell_type": "code",
   "execution_count": 19,
   "metadata": {
    "colab": {},
    "colab_type": "code",
    "executionInfo": {
     "elapsed": 58924,
     "status": "aborted",
     "timestamp": 1594940855443,
     "user": {
      "displayName": "rodrigo santos",
      "photoUrl": "https://lh3.googleusercontent.com/a-/AOh14GjQjf2sZd28oKnqwU7xdr5mL9ANI2aEz_PX8oaW=s64",
      "userId": "09613078386678637656"
     },
     "user_tz": 180
    },
    "id": "KWmrax_h-ZwT"
   },
   "outputs": [],
   "source": [
    "# MovieLens \n",
    "\n",
    "predictions_ml = model_ml.transform(testset_ml_spark[[\"userid\",\"itemid\"]]) \n",
    "ratesAndPreds_ml = testset_ml_spark.join(other=predictions_ml,on=['userid','itemid'],how='inner').na.drop() \n",
    "\n",
    "rating_ml = np.array(ratesAndPreds_ml.select(\"rating\").collect()).ravel()\n",
    "prediction_ml = np.array(ratesAndPreds_ml.select(\"prediction\").collect()).ravel()\n",
    "uid_ml =  np.array(ratesAndPreds_ml.select(\"userid\").collect()).ravel()\n",
    "\n",
    "# Book\n",
    "\n",
    "predictions_bcd = model_bcd.transform(testset_bcd_spark[[\"userid\",\"itemid\"]]) \n",
    "ratesAndPreds_bcd = testset_bcd_spark.join(other=predictions_bcd,on=['userid','itemid'],how='inner').na.drop() \n",
    "\n",
    "rating_bcd = np.array(ratesAndPreds_bcd.select(\"rating\").collect()).ravel()\n",
    "prediction_bcd = np.array(ratesAndPreds_bcd.select(\"prediction\").collect()).ravel()\n",
    "uid_bcd =  np.array(ratesAndPreds_bcd.select(\"userid\").collect()).ravel()\n",
    "# Restaurant \n",
    "\n",
    "predictions_rdc = model_rdc.transform(testset_rdc_spark[[\"userid\",\"itemid\"]]) \n",
    "ratesAndPreds_rdc = testset_rdc_spark.join(other=predictions_rdc,on=['userid','itemid'],how='inner').na.drop() \n",
    "\n",
    "rating_rdc = np.array(ratesAndPreds_rdc.select(\"rating\").collect()).ravel()\n",
    "prediction_rdc = np.array(ratesAndPreds_rdc.select(\"prediction\").collect()).ravel()\n",
    "uid_rdc = np.array(ratesAndPreds_rdc.select(\"userid\").collect()).ravel()"
   ]
  },
  {
   "cell_type": "code",
   "execution_count": 20,
   "metadata": {
    "colab": {},
    "colab_type": "code",
    "executionInfo": {
     "elapsed": 58918,
     "status": "aborted",
     "timestamp": 1594940855444,
     "user": {
      "displayName": "rodrigo santos",
      "photoUrl": "https://lh3.googleusercontent.com/a-/AOh14GjQjf2sZd28oKnqwU7xdr5mL9ANI2aEz_PX8oaW=s64",
      "userId": "09613078386678637656"
     },
     "user_tz": 180
    },
    "id": "Wyf2BdsI-Zzr"
   },
   "outputs": [
    {
     "name": "stdout",
     "output_type": "stream",
     "text": [
      "MovieLens RMSE:  0.8618483408709152\n",
      "Book RMSE:  0.8321611698323095\n",
      "RDC RMSE:  1.6867267492541786\n"
     ]
    }
   ],
   "source": [
    "# Calculando o Valor do RMSE:\n",
    "print('MovieLens RMSE: ',mean_squared_error(prediction_ml,rating_ml))\n",
    "print('Book RMSE: ',mean_squared_error(prediction_bcd,rating_bcd))\n",
    "print('RDC RMSE: ',mean_squared_error(prediction_rdc,rating_rdc))"
   ]
  },
  {
   "cell_type": "code",
   "execution_count": 21,
   "metadata": {
    "colab": {},
    "colab_type": "code",
    "executionInfo": {
     "elapsed": 58916,
     "status": "aborted",
     "timestamp": 1594940855444,
     "user": {
      "displayName": "rodrigo santos",
      "photoUrl": "https://lh3.googleusercontent.com/a-/AOh14GjQjf2sZd28oKnqwU7xdr5mL9ANI2aEz_PX8oaW=s64",
      "userId": "09613078386678637656"
     },
     "user_tz": 180
    },
    "id": "i56SRyP4XZLJ"
   },
   "outputs": [
    {
     "name": "stdout",
     "output_type": "stream",
     "text": [
      "MovieLens MAE:  0.7360417826275114\n",
      "Book MAE:  0.7047965554333295\n",
      "RDC MAE:  0.9747706817526748\n"
     ]
    }
   ],
   "source": [
    "# Calculando o Valor do MAE:\n",
    "print('MovieLens MAE: ',mean_absolute_error(prediction_ml,rating_ml))\n",
    "print('Book MAE: ',mean_absolute_error(prediction_bcd,rating_bcd))\n",
    "print('RDC MAE: ',mean_absolute_error(prediction_rdc,rating_rdc))"
   ]
  },
  {
   "cell_type": "markdown",
   "metadata": {},
   "source": [
    "### Calculando Recall"
   ]
  },
  {
   "cell_type": "code",
   "execution_count": 22,
   "metadata": {},
   "outputs": [],
   "source": [
    "def precision_recall_at_k(predictions, k=10, threshold=3.5):\n",
    "    \"\"\"Return precision and recall at k metrics for each user\"\"\"\n",
    "\n",
    "    # First map the predictions to each user.\n",
    "    user_est_true = defaultdict(list)\n",
    "    for uid, _, true_r, est, _ in predictions:\n",
    "        user_est_true[uid].append((est, true_r))\n",
    "\n",
    "    precisions = dict()\n",
    "    recalls = dict()\n",
    "    for uid, user_ratings in user_est_true.items():\n",
    "\n",
    "        # Sort user ratings by estimated value\n",
    "        user_ratings.sort(key=lambda x: x[0], reverse=True)\n",
    "\n",
    "        # Number of relevant items\n",
    "        n_rel = sum((true_r >= threshold) for (_, true_r) in user_ratings)\n",
    "\n",
    "        # Number of recommended items in top k\n",
    "        n_rec_k = sum((est >= threshold) for (est, _) in user_ratings[:k])\n",
    "\n",
    "        # Number of relevant and recommended items in top k\n",
    "        n_rel_and_rec_k = sum(((true_r >= threshold) and (est >= threshold))\n",
    "                              for (est, true_r) in user_ratings[:k])\n",
    "\n",
    "        # Precision@K: Proportion of recommended items that are relevant\n",
    "        # When n_rec_k is 0, Precision is undefined. We here set it to 0.\n",
    "\n",
    "        precisions[uid] = n_rel_and_rec_k / n_rec_k if n_rec_k != 0 else 0\n",
    "\n",
    "        # Recall@K: Proportion of relevant items that are recommended\n",
    "        # When n_rel is 0, Recall is undefined. We here set it to 0.\n",
    "\n",
    "        recalls[uid] = n_rel_and_rec_k / n_rel if n_rel != 0 else 0\n",
    "\n",
    "    return precisions, recalls"
   ]
  },
  {
   "cell_type": "markdown",
   "metadata": {},
   "source": [
    "### Calculando Recall para o SVD"
   ]
  },
  {
   "cell_type": "code",
   "execution_count": 23,
   "metadata": {},
   "outputs": [
    {
     "name": "stdout",
     "output_type": "stream",
     "text": [
      "Movielens  0.6762366501451783\n",
      "Books  0.755301047431303\n",
      "RDC 0.8327823691460055\n"
     ]
    }
   ],
   "source": [
    "# Escolhendo Corte como 3.5\n",
    "from collections import defaultdict\n",
    "#predição base de Test\n",
    "k = 1000000\n",
    "threshold = 3.5\n",
    "\n",
    "precisions_ml, recalls_ml = precision_recall_at_k(SVD_predictions_ml,k=k, threshold=threshold)\n",
    "\n",
    "precisions_bcd, recalls_bcd = precision_recall_at_k(SVD_predictions_bcd,k=k, threshold=threshold)\n",
    "\n",
    "precisions_rdc, recalls_rdc = precision_recall_at_k(SVD_predictions_rdc,k=k, threshold=threshold)\n",
    "\n",
    "\n",
    "\n",
    "print('Movielens ',sum(rec for rec in recalls_ml.values()) / len(recalls_ml))\n",
    "\n",
    "\n",
    "print('Books ',sum(rec for rec in recalls_bcd.values()) / len(recalls_bcd))\n",
    "\n",
    "print('RDC', sum(rec for rec in recalls_rdc.values()) / len(recalls_rdc))"
   ]
  },
  {
   "cell_type": "markdown",
   "metadata": {},
   "source": [
    "## Calculando o Recall para o ALS"
   ]
  },
  {
   "cell_type": "code",
   "execution_count": 24,
   "metadata": {},
   "outputs": [],
   "source": [
    "def recall_from_als(df,threshold = 4,k=20):\n",
    "    \n",
    "    #df = df.sort_values(by = [\"est\"], ascending = False)\n",
    "    df_recall = pd.DataFrame([], columns = {\"uid\",\"est\",\"true_r\"})\n",
    "    n_rel_true = []\n",
    "    n_rel_est = []\n",
    "    n_rel_and_rec_k = []\n",
    "    user = df[\"uid\"].unique()\n",
    "    \n",
    "    # Number of recommended items in top k\n",
    "    \n",
    "    for uid in range(len(user)):\n",
    "        \n",
    "        df_temp = df[df[\"uid\"] == df[\"uid\"][uid]]\n",
    "        df_temp = df_temp.sort_values(by = [\"est\"], ascending = False)\n",
    "        \n",
    "        df_temp = df_temp.head(k)\n",
    "        \n",
    "        df_recall = df_recall.append(df_temp,ignore_index=True)\n",
    "        \n",
    "        \n",
    "        # Number of relevant items\n",
    "        \n",
    "    for i in range(len(df_recall)):\n",
    "            \n",
    "            \n",
    "        if df_recall[\"true_r\"][i] > threshold:\n",
    "            n_rel_true.append(1)\n",
    "        else:\n",
    "            n_rel_true.append(0)\n",
    "                    \n",
    "                    \n",
    "        if df_recall[\"est\"][i] > threshold:\n",
    "            n_rel_est.append(1)\n",
    "        else:\n",
    "            n_rel_est.append(0)\n",
    "                            \n",
    "        if n_rel_est[i] == 1 and n_rel_true[i] == 1:\n",
    "            \n",
    "            n_rel_and_rec_k.append(1)\n",
    "        \n",
    "        else:\n",
    "            \n",
    "            n_rel_and_rec_k.append(0)\n",
    "            \n",
    "            \n",
    "            \n",
    "                \n",
    "                \n",
    "    return sum(n_rel_and_rec_k) / sum(n_rel_true) "
   ]
  },
  {
   "cell_type": "code",
   "execution_count": 25,
   "metadata": {},
   "outputs": [],
   "source": [
    "\n",
    "#MovieLens\n",
    "df_final_ml = pd.DataFrame({'uid':uid_ml,'est':prediction_ml,'true_r':rating_ml})\n",
    "\n",
    "#Book\n",
    "df_final_bcd = pd.DataFrame({'uid':uid_bcd,'est':prediction_bcd,'true_r':rating_bcd})\n",
    "\n",
    "#RDC\n",
    "df_final_rdc = pd.DataFrame({'uid':uid_rdc,'est':prediction_rdc,'true_r':rating_rdc})"
   ]
  },
  {
   "cell_type": "code",
   "execution_count": 26,
   "metadata": {},
   "outputs": [
    {
     "name": "stderr",
     "output_type": "stream",
     "text": [
      "/anaconda/envs/azureml_py36/lib/python3.6/site-packages/pandas/core/frame.py:6211: FutureWarning: Sorting because non-concatenation axis is not aligned. A future version\n",
      "of pandas will change to not sort by default.\n",
      "\n",
      "To accept the future behavior, pass 'sort=False'.\n",
      "\n",
      "To retain the current behavior and silence the warning, pass 'sort=True'.\n",
      "\n",
      "  sort=sort)\n"
     ]
    },
    {
     "name": "stdout",
     "output_type": "stream",
     "text": [
      "Recall para Movilens 0.6473882462748758\n"
     ]
    }
   ],
   "source": [
    "print(\"Recall para Movilens\",recall_from_als(df_final_ml,k=1000,threshold = 3.5))\n",
    "\n"
   ]
  },
  {
   "cell_type": "code",
   "execution_count": 27,
   "metadata": {},
   "outputs": [
    {
     "name": "stdout",
     "output_type": "stream",
     "text": [
      "Recall para Book 0.7740156697422844\n"
     ]
    }
   ],
   "source": [
    "print(\"Recall para Book\",recall_from_als(df_final_bcd,k=1000,threshold = 3.5))"
   ]
  },
  {
   "cell_type": "code",
   "execution_count": 28,
   "metadata": {},
   "outputs": [
    {
     "name": "stdout",
     "output_type": "stream",
     "text": [
      "Recall para rdc 0.4626865671641791\n"
     ]
    }
   ],
   "source": [
    "print(\"Recall para rdc\",recall_from_als(df_final_rdc,k=1000,threshold = 3.5))"
   ]
  },
  {
   "cell_type": "code",
   "execution_count": null,
   "metadata": {},
   "outputs": [],
   "source": []
  }
 ],
 "metadata": {
  "colab": {
   "authorship_tag": "ABX9TyNCaIUJKB5tVBgUmNplv4T4",
   "collapsed_sections": [],
   "mount_file_id": "1CBoA8DChLw_cnRaJVTrBrTGi7rIXPwD8",
   "name": "Experimento Matriz de Fatoração.ipynb",
   "provenance": []
  },
  "kernelspec": {
   "display_name": "Python 3.6 - AzureML",
   "language": "python",
   "name": "python3-azureml"
  },
  "language_info": {
   "codemirror_mode": {
    "name": "ipython",
    "version": 3
   },
   "file_extension": ".py",
   "mimetype": "text/x-python",
   "name": "python",
   "nbconvert_exporter": "python",
   "pygments_lexer": "ipython3",
   "version": "3.6.9"
  }
 },
 "nbformat": 4,
 "nbformat_minor": 4
}
